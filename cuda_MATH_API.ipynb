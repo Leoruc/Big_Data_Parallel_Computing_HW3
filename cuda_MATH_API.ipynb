{
 "cells": [
  {
   "cell_type": "markdown",
   "id": "be220ef4-6eac-4d06-87ca-4ca6aff7cfa3",
   "metadata": {},
   "source": [
    "# 使用CUDA Math API，用蒙特卡洛方法计算定积分"
   ]
  },
  {
   "cell_type": "code",
   "execution_count": 1,
   "id": "512671f7-31d2-4033-88fd-9bb635ffc997",
   "metadata": {
    "tags": []
   },
   "outputs": [],
   "source": [
    "import numpy as np\n",
    "from pycuda.compiler import SourceModule\n",
    "import pycuda.driver as cuda\n",
    "import pycuda.autoinit\n",
    "import time"
   ]
  },
  {
   "cell_type": "markdown",
   "id": "958d5bc6-22ac-402b-ab09-4de4789b0c98",
   "metadata": {},
   "source": [
    "我们使用CUDA Math API，运用蒙特卡洛方法计算定积分$$\\int_{-10}^{10}\\int_{-10}^{10}e^{-(x^2+y^2)}dxdy,$$并与在CPU上使用蒙特卡洛方法计算定积分的速度进行比较。"
   ]
  },
  {
   "cell_type": "markdown",
   "id": "b01214db-fef2-4bf8-ba2b-e37ecce25b79",
   "metadata": {
    "tags": []
   },
   "source": [
    "首先使用CUDA Math API进行计算。"
   ]
  },
  {
   "cell_type": "code",
   "execution_count": 2,
   "id": "260e4852-4fbe-4bf5-bfd6-2275e4f8cdaf",
   "metadata": {
    "tags": []
   },
   "outputs": [
    {
     "name": "stdout",
     "output_type": "stream",
     "text": [
      "积分估计值: 3.1401420593261715\n",
      "样本点数: 16384000\n",
      "用时: 0.0014秒\n"
     ]
    }
   ],
   "source": [
    "# CUDA 内核代码\n",
    "cuda_code = \"\"\"\n",
    "#include <curand_kernel.h>\n",
    "#include <math.h>\n",
    "\n",
    "// CUDA 核函数：使用蒙特卡洛方法计算定积分\n",
    "extern \"C\" __global__ void monte_carlo(float* results, int samples_per_thread, int seed) {\n",
    "    int idx = blockIdx.x * blockDim.x + threadIdx.x;  // 线程索引\n",
    "    curandState state;\n",
    "    curand_init(seed, idx, 0, &state);  // 初始化 cuRAND 随机数状态\n",
    "\n",
    "    float local_sum = 0.0f;\n",
    "\n",
    "    for (int i = 0; i < samples_per_thread; i++) {\n",
    "        // 生成 x 和 y，均匀分布在 [-10, 10]\n",
    "        float x = -10.0f + 20.0f * curand_uniform(&state);\n",
    "        float y = -10.0f + 20.0f * curand_uniform(&state);\n",
    "\n",
    "        // 使用 CUDA Math API 计算 f(x, y) = exp(-x^2 - y^2)\n",
    "        local_sum += __expf(-x * x - y * y);\n",
    "    }\n",
    "\n",
    "    // 将局部和写回全局内存\n",
    "    results[idx] = local_sum;\n",
    "}\n",
    "\n",
    "\"\"\"\n",
    "\n",
    "# 主函数\n",
    "def monte_carlo_cuda(samples_per_thread=1000, threads_per_block=256, blocks=64):\n",
    "    # 总线程数\n",
    "    total_threads = threads_per_block * blocks\n",
    "    total_samples = samples_per_thread * total_threads\n",
    "\n",
    "    # 分配 GPU 内存\n",
    "    results_device = cuda.mem_alloc(total_threads * np.float32().nbytes)\n",
    "\n",
    "    # 编译 CUDA 内核\n",
    "    mod = SourceModule(no_extern_c=True,options=['-w'],source=cuda_code)\n",
    "    monte_carlo_kernel = mod.get_function(\"monte_carlo\")\n",
    "\n",
    "    # 启动核函数\n",
    "    start_time = time.time()\n",
    "    monte_carlo_kernel(\n",
    "        results_device,\n",
    "        np.int32(samples_per_thread),\n",
    "        np.int32(int(time.time())),\n",
    "        block=(threads_per_block, 1, 1),\n",
    "        grid=(blocks, 1),\n",
    "    )\n",
    "    cuda.Context.synchronize()\n",
    "    end_time = time.time()\n",
    "\n",
    "    # 拷贝结果回主机\n",
    "    results_host = np.empty(total_threads, dtype=np.float32)\n",
    "    cuda.memcpy_dtoh(results_host, results_device)\n",
    "\n",
    "    # 归约求和\n",
    "    integral_sum = np.sum(results_host)\n",
    "\n",
    "    # 计算最终结果\n",
    "    area = 400.0  # 积分区域面积 [-10, 10] x [-10, 10]\n",
    "    result = (integral_sum / total_samples) * area\n",
    "\n",
    "    print(f\"积分估计值: {result}\")\n",
    "    print(f\"样本点数: {total_samples}\")\n",
    "    print(f\"用时: {end_time - start_time:.4f}秒\")\n",
    "\n",
    "# 运行程序\n",
    "if __name__ == \"__main__\":\n",
    "    monte_carlo_cuda()"
   ]
  },
  {
   "cell_type": "markdown",
   "id": "0f079349-049e-4376-bd59-46c56145db86",
   "metadata": {},
   "source": [
    "然后使用CPU进行计算。"
   ]
  },
  {
   "cell_type": "code",
   "execution_count": 3,
   "id": "3c9b7664-1a69-4ac4-ac75-54f318b502a5",
   "metadata": {
    "tags": []
   },
   "outputs": [
    {
     "name": "stdout",
     "output_type": "stream",
     "text": [
      "积分估计值: 3.1307765623002406\n",
      "样本点数: 16384000\n",
      "用时: 0.6788秒\n"
     ]
    }
   ],
   "source": [
    "def monte_carlo_cpu(samples_per_thread=1000, total_threads=16384):\n",
    "    start = time.time()\n",
    "    # 总样本点数\n",
    "    total_samples = samples_per_thread * total_threads\n",
    "\n",
    "    # 初始化随机数种子\n",
    "    np.random.seed(int(time.time()))\n",
    "\n",
    "    # 生成随机样本点 (x, y) 均匀分布在 [-10, 10]\n",
    "    x_samples = np.random.uniform(-10.0, 10.0, total_samples)\n",
    "    y_samples = np.random.uniform(-10.0, 10.0, total_samples)\n",
    "\n",
    "    # 计算 f(x, y) = exp(-x^2 - y^2)\n",
    "    function_values = np.exp(-x_samples**2 - y_samples**2)\n",
    "\n",
    "    # 归约求和\n",
    "    integral_sum = np.sum(function_values)\n",
    "\n",
    "    # 计算最终结果\n",
    "    area = 400.0  # 积分区域面积 [-10, 10] x [-10, 10]\n",
    "    result = (integral_sum / total_samples) * area\n",
    "    \n",
    "    end = time.time()\n",
    "    \n",
    "    print(f\"积分估计值: {result}\")\n",
    "    print(f\"样本点数: {total_samples}\")\n",
    "    print(f\"用时: {end - start:.4f}秒\")\n",
    "\n",
    "# 运行程序\n",
    "if __name__ == \"__main__\":\n",
    "    monte_carlo_cpu()"
   ]
  }
 ],
 "metadata": {
  "kernelspec": {
   "display_name": "myconda",
   "language": "python",
   "name": "myconda"
  },
  "language_info": {
   "codemirror_mode": {
    "name": "ipython",
    "version": 3
   },
   "file_extension": ".py",
   "mimetype": "text/x-python",
   "name": "python",
   "nbconvert_exporter": "python",
   "pygments_lexer": "ipython3",
   "version": "3.10.12"
  }
 },
 "nbformat": 4,
 "nbformat_minor": 5
}
